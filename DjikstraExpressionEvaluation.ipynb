{
 "cells": [
  {
   "cell_type": "markdown",
   "metadata": {},
   "source": [
    "Djikstra's Two Stack Algorithm for Expression Evaluation\n",
    "\n",
    "An easy way to calculate mathematical expressions written in a string.\n",
    "\n",
    "1. Operands / vals: used to store values in a stack\n",
    "2. Operations: used to store operations in a stack\n",
    "\n",
    "When going through the expression\n",
    "\n",
    "1. Push operands into the operands stack\n",
    "2. Push operations into the operations stack\n",
    "3. Ignore \"(\"\n",
    "4. When \")\", pop an operation and corresponding number of operands and perform \n",
    "the operation. Push the result into the operands stack."
   ]
  },
  {
   "cell_type": "code",
   "execution_count": 22,
   "metadata": {},
   "outputs": [
    {
     "data": {
      "text/plain": [
       "8.0"
      ]
     },
     "execution_count": 22,
     "metadata": {},
     "output_type": "execute_result"
    }
   ],
   "source": [
    "import math\n",
    "\n",
    "def evaluate(s):\n",
    "    operators = []\n",
    "    vals = []\n",
    "    s = s.split(\" \")\n",
    "    for op in s:\n",
    "        if op in (\"+\", \"-\", \"*\", \"/\", \"sqrt\"):\n",
    "            operators.append(op)\n",
    "        elif op == \")\":\n",
    "            v = vals.pop()\n",
    "            operation = operators.pop()\n",
    "            if operation == \"+\":\n",
    "                v = vals.pop() + v\n",
    "            elif operation == \"-\":\n",
    "                v = vals.pop() - v\n",
    "            elif operation == \"*\":\n",
    "                v = vals.pop() * v\n",
    "            elif operation == \"/\":\n",
    "                v = vals.pop() / v\n",
    "            elif operation == \"sqrt\":\n",
    "                v = math.sqrt(v)\n",
    "            vals.append(v)\n",
    "        elif op == \"(\":\n",
    "            pass\n",
    "        else:\n",
    "            vals.append(float(op))\n",
    "    return vals.pop()\n",
    "\n",
    "evaluate(\"( ( ( 1 + 7 ) * 2 ) / ( sqrt 4 ) )\")"
   ]
  }
 ],
 "metadata": {
  "kernelspec": {
   "display_name": "Python 3",
   "language": "python",
   "name": "python3"
  },
  "language_info": {
   "codemirror_mode": {
    "name": "ipython",
    "version": 3
   },
   "file_extension": ".py",
   "mimetype": "text/x-python",
   "name": "python",
   "nbconvert_exporter": "python",
   "pygments_lexer": "ipython3",
   "version": "3.12.8"
  }
 },
 "nbformat": 4,
 "nbformat_minor": 2
}
