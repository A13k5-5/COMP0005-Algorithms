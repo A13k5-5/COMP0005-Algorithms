{
 "cells": [
  {
   "cell_type": "markdown",
   "metadata": {},
   "source": [
    "Bitonic array\n",
    "\n",
    "- a sequence of numbers which is first strictly increasing then after a point strictly decreasing\n",
    "\n",
    "- increases up until a point where it starts decreasing up until the end"
   ]
  },
  {
   "cell_type": "code",
   "execution_count": 36,
   "metadata": {},
   "outputs": [],
   "source": [
    "def bitonicPoint(lst):\n",
    "    n = len(lst)\n",
    "    if n == 1:\n",
    "        return lst[0]\n",
    "    \n",
    "    lo, hi = 1, n - 1\n",
    "    while lo <= hi:\n",
    "        mid = (lo + hi) // 2\n",
    "        if lst[mid] > lst[mid - 1] and lst[mid] > lst[mid + 1]:\n",
    "            return mid\n",
    "        if lst[mid] < lst[mid + 1]:\n",
    "            lo = mid + 1\n",
    "        else:\n",
    "            hi = mid - 1\n",
    "    return hi\n",
    "\n",
    "\n",
    "def binarySearch(lst, target, increasing):\n",
    "    n = len(lst)\n",
    "    lo, hi = 0, n - 1\n",
    "    while lo <= hi:\n",
    "        mid = (lo + hi) // 2\n",
    "        if lst[mid] == target:\n",
    "            return True\n",
    "        if target < lst[mid]:\n",
    "            if increasing:\n",
    "                hi = mid - 1\n",
    "            else:\n",
    "                lo = mid + 1\n",
    "        else:\n",
    "            if increasing:\n",
    "                lo = mid + 1\n",
    "            else:\n",
    "                hi = mid - 1\n",
    "    return False\n",
    "\n",
    "\n",
    "def bitonicSearch(lst, target):\n",
    "    i = bitonicPoint(lst)\n",
    "    if binarySearch(lst[:i], target, True):\n",
    "        return True\n",
    "    return binarySearch(lst[i:], target, False)"
   ]
  },
  {
   "cell_type": "code",
   "execution_count": 42,
   "metadata": {},
   "outputs": [
    {
     "name": "stdout",
     "output_type": "stream",
     "text": [
      "False\n"
     ]
    }
   ],
   "source": [
    "if __name__ == \"__main__\":\n",
    "    arr = [1,2,3,4,5,6,7,6,5,4,3,1]\n",
    "    print(bitonicSearch(arr, 123))"
   ]
  }
 ],
 "metadata": {
  "kernelspec": {
   "display_name": "Python 3",
   "language": "python",
   "name": "python3"
  },
  "language_info": {
   "codemirror_mode": {
    "name": "ipython",
    "version": 3
   },
   "file_extension": ".py",
   "mimetype": "text/x-python",
   "name": "python",
   "nbconvert_exporter": "python",
   "pygments_lexer": "ipython3",
   "version": "3.12.8"
  }
 },
 "nbformat": 4,
 "nbformat_minor": 2
}
