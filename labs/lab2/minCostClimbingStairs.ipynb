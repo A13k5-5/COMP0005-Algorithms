{
 "cells": [
  {
   "cell_type": "markdown",
   "metadata": {},
   "source": [
    "2 solutions\n",
    "\n",
    "Both use dynamic programming\n",
    "\n",
    "1. Memory complexity O(n) -> keeps track of all ways\n",
    "2. Memory complexity O(1) -> keeps track of only two, top and left"
   ]
  },
  {
   "cell_type": "code",
   "execution_count": 4,
   "metadata": {},
   "outputs": [],
   "source": [
    "def minCostClimbingStairs1(stairs):\n",
    "    if len(stairs) < 2:\n",
    "        return stairs[-1] if len(stairs) > 0 else 0\n",
    "\n",
    "    dp = [0 for _ in stairs]\n",
    "    dp[0], dp[1] = stairs[0], stairs[1]\n",
    "\n",
    "    for i in range(2, len(stairs)):\n",
    "        dp[i] = min(dp[i - 1], dp[i - 2]) + stairs[i]\n",
    "    return min(dp[-1], dp[-2])"
   ]
  },
  {
   "cell_type": "code",
   "execution_count": 7,
   "metadata": {},
   "outputs": [],
   "source": [
    "def minCostClimbingStairs2(stairs):\n",
    "    s1, s2 = stairs[0], stairs[1]\n",
    "    for i in range(2, len(stairs)):\n",
    "        s1, s2 = s2, min(s1, s2) + stairs[i]\n",
    "    return min(s1, s2)"
   ]
  },
  {
   "cell_type": "code",
   "execution_count": 8,
   "metadata": {},
   "outputs": [
    {
     "name": "stdout",
     "output_type": "stream",
     "text": [
      "6\n",
      "6\n"
     ]
    }
   ],
   "source": [
    "\n",
    "if __name__ == \"__main__\":\n",
    "    stairs = [1, 101, 1, 2, 4, 5]\n",
    "    print(minCostClimbingStairs1(stairs))\n",
    "    print(minCostClimbingStairs2(stairs))"
   ]
  }
 ],
 "metadata": {
  "kernelspec": {
   "display_name": "Python 3",
   "language": "python",
   "name": "python3"
  },
  "language_info": {
   "codemirror_mode": {
    "name": "ipython",
    "version": 3
   },
   "file_extension": ".py",
   "mimetype": "text/x-python",
   "name": "python",
   "nbconvert_exporter": "python",
   "pygments_lexer": "ipython3",
   "version": "3.12.8"
  }
 },
 "nbformat": 4,
 "nbformat_minor": 2
}
