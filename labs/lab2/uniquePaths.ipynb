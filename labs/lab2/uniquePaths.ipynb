{
 "cells": [
  {
   "cell_type": "markdown",
   "metadata": {},
   "source": [
    "Get from top left corner to bottom right corner\n",
    "\n",
    "2 solutions\n",
    "\n",
    "1. Combinatorics - 1 liner\n",
    "2. Dynamic programming"
   ]
  },
  {
   "cell_type": "code",
   "execution_count": 20,
   "metadata": {},
   "outputs": [],
   "source": [
    "from math import factorial\n",
    "\n",
    "\n",
    "def uniquePaths(m, n):\n",
    "    return factorial(m + n - 2) // (factorial(m - 1) * factorial(n - 1))"
   ]
  },
  {
   "cell_type": "code",
   "execution_count": 21,
   "metadata": {},
   "outputs": [
    {
     "name": "stdout",
     "output_type": "stream",
     "text": [
      "2\n"
     ]
    }
   ],
   "source": [
    "if __name__ == \"__main__\":\n",
    "    print(uniquePaths(2, 2))"
   ]
  },
  {
   "cell_type": "code",
   "execution_count": 24,
   "metadata": {},
   "outputs": [],
   "source": [
    "def uniquePathsDP(m, n):\n",
    "    dp = [[None for x in range(m)] for y in range(n)]\n",
    "    dp[0][0] = 1\n",
    "    for y in range(n):\n",
    "        for x in range(m):\n",
    "            if y == 0 and x == 0:\n",
    "                continue\n",
    "            top = left = 0\n",
    "            if y > 0:\n",
    "                top = dp[y - 1][x]\n",
    "            if x > 0:\n",
    "                left = dp[y][x - 1]\n",
    "            dp[y][x] = left + top\n",
    "    return dp[n - 1][m - 1]\n",
    " "
   ]
  },
  {
   "cell_type": "code",
   "execution_count": 27,
   "metadata": {},
   "outputs": [
    {
     "name": "stdout",
     "output_type": "stream",
     "text": [
      "20\n"
     ]
    }
   ],
   "source": [
    "if __name__ == \"__main__\":\n",
    "    print(uniquePathsDP(4, 4))"
   ]
  }
 ],
 "metadata": {
  "kernelspec": {
   "display_name": "Python 3",
   "language": "python",
   "name": "python3"
  },
  "language_info": {
   "codemirror_mode": {
    "name": "ipython",
    "version": 3
   },
   "file_extension": ".py",
   "mimetype": "text/x-python",
   "name": "python",
   "nbconvert_exporter": "python",
   "pygments_lexer": "ipython3",
   "version": "3.12.8"
  }
 },
 "nbformat": 4,
 "nbformat_minor": 2
}
