{
 "cells": [
  {
   "cell_type": "code",
   "execution_count": 2,
   "metadata": {},
   "outputs": [],
   "source": [
    "def findDistance(word1: str, word2: str):\n",
    "    dp = [[float(\"inf\")] * (len(word2) + 1) for i in range(len(word1) + 1)]\n",
    "    for j in range(len(word2) + 1):\n",
    "        dp[len(word1)][j] = len(word2) - j\n",
    "    for j in range(len(word1) + 1):\n",
    "        dp[j][len(word2)] = len(word1) - j\n",
    "\n",
    "    for i in range(len(word1) - 1, -1, -1):\n",
    "        for j in range(len(word2) -1, -1, -1):\n",
    "            if word1[i] == word2[j]:\n",
    "                dp[i][j] = dp[i+1][j+1]\n",
    "            else:\n",
    "                dp[i][j] = 1 + min(dp[i+1][j], dp[i][j+1], dp[i+1][j + 1])\n",
    "    return dp[0][0]"
   ]
  },
  {
   "cell_type": "code",
   "execution_count": 4,
   "metadata": {},
   "outputs": [
    {
     "name": "stdout",
     "output_type": "stream",
     "text": [
      "3\n"
     ]
    }
   ],
   "source": [
    "if __name__ == \"__main__\":\n",
    "    print(findDistance(\"horse\", \"ros\"))"
   ]
  }
 ],
 "metadata": {
  "kernelspec": {
   "display_name": "base",
   "language": "python",
   "name": "python3"
  },
  "language_info": {
   "codemirror_mode": {
    "name": "ipython",
    "version": 3
   },
   "file_extension": ".py",
   "mimetype": "text/x-python",
   "name": "python",
   "nbconvert_exporter": "python",
   "pygments_lexer": "ipython3",
   "version": "3.12.7"
  }
 },
 "nbformat": 4,
 "nbformat_minor": 2
}
