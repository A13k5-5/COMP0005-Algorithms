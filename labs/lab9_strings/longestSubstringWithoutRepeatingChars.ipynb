{
 "cells": [
  {
   "cell_type": "code",
   "execution_count": 20,
   "metadata": {},
   "outputs": [],
   "source": [
    "from collections import defaultdict"
   ]
  },
  {
   "cell_type": "code",
   "execution_count": 36,
   "metadata": {},
   "outputs": [],
   "source": [
    "def findLongestNonRepeating(string: str):\n",
    "    longest = i = curLen = 0\n",
    "    freq = defaultdict(int)\n",
    "    lastSeen = defaultdict(int)\n",
    "    while i < len(string):\n",
    "        freq[string[i]] += 1\n",
    "        if freq[string[i]] > 1:\n",
    "            freq = defaultdict(int)\n",
    "            i = lastSeen[string[i]]\n",
    "            lastSeen = defaultdict(int)\n",
    "            longest = max(longest, curLen)\n",
    "            curLen = 0\n",
    "        lastSeen[string[i]] = i\n",
    "        i += 1\n",
    "        curLen += 1\n",
    "        print(freq)\n",
    "    return longest\n",
    "        "
   ]
  },
  {
   "cell_type": "code",
   "execution_count": 37,
   "metadata": {},
   "outputs": [
    {
     "name": "stdout",
     "output_type": "stream",
     "text": [
      "defaultdict(<class 'int'>, {'A': 1})\n",
      "defaultdict(<class 'int'>, {'A': 1, 'B': 1})\n",
      "defaultdict(<class 'int'>, {'A': 1, 'B': 1, 'C': 1})\n",
      "defaultdict(<class 'int'>, {})\n",
      "defaultdict(<class 'int'>, {'B': 1})\n",
      "defaultdict(<class 'int'>, {'B': 1, 'C': 1})\n",
      "defaultdict(<class 'int'>, {'B': 1, 'C': 1, 'A': 1})\n",
      "defaultdict(<class 'int'>, {'B': 1, 'C': 1, 'A': 1, 'D': 1})\n",
      "defaultdict(<class 'int'>, {'B': 1, 'C': 1, 'A': 1, 'D': 1, 'F': 1})\n",
      "defaultdict(<class 'int'>, {'B': 1, 'C': 1, 'A': 1, 'D': 1, 'F': 1, 'E': 1})\n",
      "defaultdict(<class 'int'>, {})\n",
      "defaultdict(<class 'int'>, {'A': 1})\n",
      "defaultdict(<class 'int'>, {'A': 1, 'D': 1})\n",
      "defaultdict(<class 'int'>, {'A': 1, 'D': 1, 'F': 1})\n",
      "defaultdict(<class 'int'>, {'A': 1, 'D': 1, 'F': 1, 'E': 1})\n",
      "defaultdict(<class 'int'>, {'A': 1, 'D': 1, 'F': 1, 'E': 1, 'C': 1})\n",
      "defaultdict(<class 'int'>, {})\n",
      "defaultdict(<class 'int'>, {'D': 1})\n",
      "defaultdict(<class 'int'>, {'D': 1, 'F': 1})\n",
      "defaultdict(<class 'int'>, {'D': 1, 'F': 1, 'E': 1})\n",
      "defaultdict(<class 'int'>, {'D': 1, 'F': 1, 'E': 1, 'C': 1})\n",
      "defaultdict(<class 'int'>, {'D': 1, 'F': 1, 'E': 1, 'C': 1, 'A': 1})\n",
      "defaultdict(<class 'int'>, {'D': 1, 'F': 1, 'E': 1, 'C': 1, 'A': 1, 'B': 1})\n",
      "7\n"
     ]
    }
   ],
   "source": [
    "if __name__ == \"__main__\":\n",
    "    print(findLongestNonRepeating(\"ABCADFECAB\"))"
   ]
  }
 ],
 "metadata": {
  "kernelspec": {
   "display_name": "base",
   "language": "python",
   "name": "python3"
  },
  "language_info": {
   "codemirror_mode": {
    "name": "ipython",
    "version": 3
   },
   "file_extension": ".py",
   "mimetype": "text/x-python",
   "name": "python",
   "nbconvert_exporter": "python",
   "pygments_lexer": "ipython3",
   "version": "3.12.7"
  }
 },
 "nbformat": 4,
 "nbformat_minor": 2
}
