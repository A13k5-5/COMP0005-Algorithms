{
 "cells": [
  {
   "cell_type": "code",
   "execution_count": null,
   "metadata": {},
   "outputs": [],
   "source": [
    "class Digraph:\n",
    "    def __init__(self, V):\n",
    "        self.V = V\n",
    "        self.adj = []\n",
    "        for _  in range(V):\n",
    "            self.adj.append([])\n",
    "        self.inn = [0] * V\n",
    "        self.out = [0] * V\n",
    "    \n",
    "    def addEdge(self, v, w):\n",
    "        self.adj[v].append(w)\n",
    "\n",
    "    def hasEulerPath(self):\n",
    "        # Count in and out degrees\n",
    "        for v, edges in enumerate(self.adj):\n",
    "            for e in edges:\n",
    "                self.out[v] += 1\n",
    "                self.inn[e] += 1\n",
    "        \n",
    "        start_nodes = end_nodes = 0\n",
    "\n",
    "        for i in range(self.V):\n",
    "            if self.out[i] - self.inn[i] > 1 or self.inn[i] - self.out[i] > 1:\n",
    "                return 1\n",
    "            elif self.out[i] - self.inn[i] == 1:\n",
    "                start_nodes += 1\n",
    "            elif self.inn[i] - self.out[i] == 1:\n",
    "                end_nodes += 1\n",
    "        \n",
    "        return (end_nodes == 0 and start_nodes == 0) or (end_nodes == 1 and start_nodes == 1)\n",
    "        \n",
    "    def startNode(self):\n",
    "        start = 0\n",
    "        for i in range(self.V):\n",
    "            if self.out[i] - self.inn[i] == 1:\n",
    "                return i\n",
    "            if self.out[i] > 1:\n",
    "                start = i\n",
    "        return start\n",
    "\n",
    "    def dfs(self, at):\n",
    "        while self.out[at] != 0:\n",
    "            pass\n",
    "        pass\n",
    "\n",
    "    def findEulerCycle(self):\n",
    "        pass"
   ]
  },
  {
   "cell_type": "code",
   "execution_count": 9,
   "metadata": {},
   "outputs": [
    {
     "name": "stdout",
     "output_type": "stream",
     "text": [
      "True\n"
     ]
    }
   ],
   "source": [
    "if __name__ == \"__main__\":\n",
    "    g = Digraph(4)\n",
    "    g.addEdge(0, 1)\n",
    "    g.addEdge(1, 2)\n",
    "    g.addEdge(2, 3)\n",
    "    print(g.hasEulerPath())"
   ]
  }
 ],
 "metadata": {
  "kernelspec": {
   "display_name": "Python 3",
   "language": "python",
   "name": "python3"
  },
  "language_info": {
   "codemirror_mode": {
    "name": "ipython",
    "version": 3
   },
   "file_extension": ".py",
   "mimetype": "text/x-python",
   "name": "python",
   "nbconvert_exporter": "python",
   "pygments_lexer": "ipython3",
   "version": "3.12.3"
  }
 },
 "nbformat": 4,
 "nbformat_minor": 2
}
