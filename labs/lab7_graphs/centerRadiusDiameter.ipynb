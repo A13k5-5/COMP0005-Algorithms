{
 "cells": [
  {
   "cell_type": "code",
   "execution_count": 19,
   "metadata": {},
   "outputs": [],
   "source": [
    "class Digraph:\n",
    "    def __init__(self, V):\n",
    "        self.V = V\n",
    "        self.adj = []\n",
    "        for _  in range(V):\n",
    "            self.adj.append([])\n",
    "        \n",
    "        self.tc = [[0 for j in range(self.V)] for i in range(self.V)]\n",
    "    \n",
    "    def addEdge(self, v, w):\n",
    "        self.adj[v].append(w)\n",
    "    \n",
    "    def adj(self, v):\n",
    "        return self.adj[v]\n",
    "\n",
    "    def transitiveClosure(self):\n",
    "        # Direct edges\n",
    "        for i in range(self.V):\n",
    "            self.tc[i][i] = 1\n",
    "            for j in self.adj[i]:\n",
    "                self.tc[i][j] = 1\n",
    "        \n",
    "        for k in range(self.V):\n",
    "            for i in range(self.V):\n",
    "                for j in range(self.V):\n",
    "                    self.tc[i][j] = self.tc[i][j] or (self.tc[i][k] and self.tc[k][j])\n",
    "        \n",
    "\n",
    "    "
   ]
  },
  {
   "cell_type": "code",
   "execution_count": 20,
   "metadata": {},
   "outputs": [
    {
     "name": "stdout",
     "output_type": "stream",
     "text": [
      "[[1, 1, 1, 1], [1, 1, 1, 1], [1, 1, 1, 1], [0, 0, 0, 1]]\n"
     ]
    }
   ],
   "source": [
    "if __name__ == \"__main__\":\n",
    "    g = Digraph(4)\n",
    "    g.addEdge(0, 1)\n",
    "    g.addEdge(0, 2)\n",
    "    g.addEdge(1, 2)\n",
    "    g.addEdge(2, 0)\n",
    "    g.addEdge(2, 3)\n",
    "    g.addEdge(3, 3)\n",
    "    g.transitiveClosure()\n",
    "    print(g.tc)"
   ]
  }
 ],
 "metadata": {
  "kernelspec": {
   "display_name": "Python 3",
   "language": "python",
   "name": "python3"
  },
  "language_info": {
   "codemirror_mode": {
    "name": "ipython",
    "version": 3
   },
   "file_extension": ".py",
   "mimetype": "text/x-python",
   "name": "python",
   "nbconvert_exporter": "python",
   "pygments_lexer": "ipython3",
   "version": "3.12.3"
  }
 },
 "nbformat": 4,
 "nbformat_minor": 2
}
