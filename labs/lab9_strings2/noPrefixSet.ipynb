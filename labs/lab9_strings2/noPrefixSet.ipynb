{
 "cells": [
  {
   "cell_type": "markdown",
   "metadata": {},
   "source": [
    "The idea is to lexicographically sort all the elements of the set"
   ]
  },
  {
   "cell_type": "code",
   "execution_count": 2,
   "metadata": {},
   "outputs": [],
   "source": [
    "def noPrefixSet(strs: list[str]):\n",
    "    sortedStrs = sorted(strs)\n",
    "    for i in range(len(sortedStrs) - 1):\n",
    "        cur = sortedStrs[i]\n",
    "        next = sortedStrs[i + 1]\n",
    "        if next.startswith(cur):\n",
    "            return False\n",
    "    return True"
   ]
  },
  {
   "cell_type": "code",
   "execution_count": 7,
   "metadata": {},
   "outputs": [
    {
     "name": "stdout",
     "output_type": "stream",
     "text": [
      "['aaaa', 'aabaac', 'aabac']\n",
      "True\n"
     ]
    }
   ],
   "source": [
    "if __name__ == \"__main__\":\n",
    "    strs = [\"aabaac\", \"aaaa\", \"aabac\"]\n",
    "    print(sorted(strs))\n",
    "    print(noPrefixSet(strs))"
   ]
  }
 ],
 "metadata": {
  "kernelspec": {
   "display_name": "base",
   "language": "python",
   "name": "python3"
  },
  "language_info": {
   "codemirror_mode": {
    "name": "ipython",
    "version": 3
   },
   "file_extension": ".py",
   "mimetype": "text/x-python",
   "name": "python",
   "nbconvert_exporter": "python",
   "pygments_lexer": "ipython3",
   "version": "3.12.7"
  }
 },
 "nbformat": 4,
 "nbformat_minor": 2
}
