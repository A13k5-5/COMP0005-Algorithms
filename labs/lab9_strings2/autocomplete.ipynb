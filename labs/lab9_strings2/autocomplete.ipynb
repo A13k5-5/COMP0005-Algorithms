{
 "cells": [
  {
   "cell_type": "markdown",
   "metadata": {},
   "source": [
    "# Autocomplete\n",
    "\n",
    "In this case, the priority of a word is determined based on its lexicographics match with the words in a database."
   ]
  },
  {
   "cell_type": "code",
   "execution_count": 15,
   "metadata": {},
   "outputs": [],
   "source": [
    "# dictionary - [\"hello\", \"bye\", \"hey\"]\n",
    "# input - [\"he\", \"b\", ...]\n",
    "def lexicographicOrder(dictionary, word: str):\n",
    "    wordsThatStartWith = [w for w in dictionary if w[0].startswith(word)]\n",
    "    wordsThatStartWith.sort()\n",
    "    return sorted(wordsThatStartWith, key=lambda x: x[1], reverse=True)"
   ]
  },
  {
   "cell_type": "code",
   "execution_count": null,
   "metadata": {},
   "outputs": [
    {
     "name": "stdout",
     "output_type": "stream",
     "text": [
      "[('hello', 0), ('hey', 3), ('bye', 0), ('how', 0), ('are', 0), ('you', 0), ('me', 0), ('he', 0)]\n",
      "[('hey', 3), ('he', 0), ('hello', 0)]\n"
     ]
    }
   ],
   "source": [
    "if __name__ == \"__main__\":\n",
    "    wordsInDict = [\"hey\", \"hello\", \"bye\", \"how\", \"are\", \"you\", \"me\", \"he\"]\n",
    "    # dictionary = [(word, 0) for word in wordsInDict]\n",
    "    # The idea is to increment frequency by one everytime the word is 'used'\n",
    "    dictionary = [('hello', 0), ('hey', 3), ('bye', 0), ('how', 0), ('are', 0), ('you', 0), ('me', 0), ('he', 0)]\n",
    "    print(dictionary)\n",
    "    print(lexicographicOrder(dictionary, \"he\"))\n"
   ]
  }
 ],
 "metadata": {
  "kernelspec": {
   "display_name": "base",
   "language": "python",
   "name": "python3"
  },
  "language_info": {
   "codemirror_mode": {
    "name": "ipython",
    "version": 3
   },
   "file_extension": ".py",
   "mimetype": "text/x-python",
   "name": "python",
   "nbconvert_exporter": "python",
   "pygments_lexer": "ipython3",
   "version": "3.12.7"
  }
 },
 "nbformat": 4,
 "nbformat_minor": 2
}
