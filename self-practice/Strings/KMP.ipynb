{
 "cells": [
  {
   "metadata": {
    "ExecuteTime": {
     "end_time": "2025-04-25T08:43:19.173936Z",
     "start_time": "2025-04-25T08:43:19.168787Z"
    }
   },
   "cell_type": "code",
   "source": [
    "from collections import defaultdict\n",
    "\n",
    "\n",
    "def buildDFA(pattern: str, R: int = 256) -> list[dict[str, int]]:\n",
    "    dfa: list[dict[str, int]] = [defaultdict(int) for j in range(len(pattern))]\n",
    "    m: int = len(pattern)\n",
    "    dfa[0][pattern[0]] = 1\n",
    "    x, j = 0, 1\n",
    "    while j < m:\n",
    "        # First copy state x into state j\n",
    "        dfa[j] = dfa[x].copy()\n",
    "        dfa[j][pattern[j]] = j + 1\n",
    "        x = dfa[x][pattern[j]]\n",
    "        j += 1\n",
    "    return dfa"
   ],
   "id": "initial_id",
   "outputs": [],
   "execution_count": 32
  },
  {
   "metadata": {
    "ExecuteTime": {
     "end_time": "2025-04-25T08:43:19.187795Z",
     "start_time": "2025-04-25T08:43:19.185593Z"
    }
   },
   "cell_type": "code",
   "source": [
    "def KMP(pattern: str, txt: str) -> int:\n",
    "    m, n = len(pattern), len(txt)\n",
    "    if m == 0:\n",
    "        return 0\n",
    "    dfa: list[dict[str, int]] = buildDFA(pattern)\n",
    "    i = j = 0\n",
    "    while i < n and j < m:\n",
    "        j = dfa[j][txt[i]]\n",
    "        i += 1\n",
    "    if j == m:\n",
    "        return i - m\n",
    "    return n\n"
   ],
   "id": "18067fd281844843",
   "outputs": [],
   "execution_count": 33
  },
  {
   "metadata": {
    "ExecuteTime": {
     "end_time": "2025-04-25T08:43:19.239063Z",
     "start_time": "2025-04-25T08:43:19.235239Z"
    }
   },
   "cell_type": "code",
   "source": [
    "if __name__ == \"__main__\":\n",
    "    # Test case 1: Pattern exists in the text\n",
    "    pattern = \"ABABAC\"\n",
    "    text = \"ABABABAC\"\n",
    "    result = KMP(pattern, text)\n",
    "    print(f\"Pattern found at index: {result}\")  # Expected: 2\n",
    "\n",
    "    # Test case 2: Pattern does not exist in the text\n",
    "    pattern = \"XYZ\"\n",
    "    text = \"ABABABAC\"\n",
    "    result = KMP(pattern, text)\n",
    "    print(f\"Pattern found at index: {result}\")  # Expected: 8 (length of text)\n",
    "\n",
    "    # Test case 3: Pattern is empty\n",
    "    pattern = \"\"\n",
    "    text = \"ABABABAC\"\n",
    "    result = KMP(pattern, text)\n",
    "    print(f\"Pattern found at index: {result}\")  # Expected: 0\n",
    "\n",
    "    # Test case 4: Text is empty\n",
    "    pattern = \"ABABAC\"\n",
    "    text = \"\"\n",
    "    result = KMP(pattern, text)\n",
    "    print(f\"Pattern found at index: {result}\")  # Expected: 0\n"
   ],
   "id": "16fe6ed12fcf8dee",
   "outputs": [
    {
     "name": "stdout",
     "output_type": "stream",
     "text": [
      "Pattern found at index: 2\n",
      "Pattern found at index: 8\n",
      "Pattern found at index: 0\n",
      "Pattern found at index: 0\n"
     ]
    }
   ],
   "execution_count": 34
  }
 ],
 "metadata": {
  "kernelspec": {
   "display_name": "Python 3",
   "language": "python",
   "name": "python3"
  },
  "language_info": {
   "codemirror_mode": {
    "name": "ipython",
    "version": 2
   },
   "file_extension": ".py",
   "mimetype": "text/x-python",
   "name": "python",
   "nbconvert_exporter": "python",
   "pygments_lexer": "ipython2",
   "version": "2.7.6"
  }
 },
 "nbformat": 4,
 "nbformat_minor": 5
}
