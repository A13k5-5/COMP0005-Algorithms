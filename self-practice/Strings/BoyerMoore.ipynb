{
 "cells": [
  {
   "cell_type": "code",
   "id": "initial_id",
   "metadata": {
    "collapsed": true,
    "ExecuteTime": {
     "end_time": "2025-04-25T09:56:43.373693Z",
     "start_time": "2025-04-25T09:56:43.368580Z"
    }
   },
   "source": [
    "from collections import defaultdict\n",
    "\n",
    "\n",
    "def preprocessingTable(pattern: str) -> dict[str, int]:\n",
    "    m: int = len(pattern)\n",
    "    right: dict[str, int] = defaultdict(lambda: -1)\n",
    "    for i, c in enumerate(pattern):\n",
    "        right[c] = i\n",
    "    return right"
   ],
   "outputs": [],
   "execution_count": 13
  },
  {
   "metadata": {
    "ExecuteTime": {
     "end_time": "2025-04-25T09:56:43.430187Z",
     "start_time": "2025-04-25T09:56:43.425328Z"
    }
   },
   "cell_type": "code",
   "source": [
    "def BoyerMoore(pattern: str, txt: str) -> int:\n",
    "    right = preprocessingTable(pattern)\n",
    "    n, m = len(txt), len(pattern)\n",
    "    i: int = 0\n",
    "    while i <= n - m:\n",
    "        skip = 0\n",
    "        for j in range(m - 1, -1, -1):\n",
    "            if pattern[j] != txt[i + j]:\n",
    "                skip = max(1, j - right.get(txt[i + j], -1))  # Handle missing characters\n",
    "                if skip < 1:\n",
    "                    skip = 1\n",
    "                break\n",
    "        if skip == 0:\n",
    "            return i\n",
    "        i += skip\n",
    "    return n"
   ],
   "id": "b0520634cb38b2d1",
   "outputs": [],
   "execution_count": 14
  },
  {
   "metadata": {
    "ExecuteTime": {
     "end_time": "2025-04-25T09:56:43.481131Z",
     "start_time": "2025-04-25T09:56:43.477290Z"
    }
   },
   "cell_type": "code",
   "source": [
    "if __name__ == \"__main__\":\n",
    "    txt = \"FINDINAHAYSTACKNEEDLE\"\n",
    "    pattern = \"NEEDLE\"\n",
    "    print(BoyerMoore(pattern, txt))"
   ],
   "id": "a8a846bc5c40cb7b",
   "outputs": [
    {
     "name": "stdout",
     "output_type": "stream",
     "text": [
      "15\n"
     ]
    }
   ],
   "execution_count": 15
  }
 ],
 "metadata": {
  "kernelspec": {
   "display_name": "Python 3",
   "language": "python",
   "name": "python3"
  },
  "language_info": {
   "codemirror_mode": {
    "name": "ipython",
    "version": 2
   },
   "file_extension": ".py",
   "mimetype": "text/x-python",
   "name": "python",
   "nbconvert_exporter": "python",
   "pygments_lexer": "ipython2",
   "version": "2.7.6"
  }
 },
 "nbformat": 4,
 "nbformat_minor": 5
}
