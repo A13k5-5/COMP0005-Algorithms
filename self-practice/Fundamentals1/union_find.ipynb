{
 "cells": [
  {
   "cell_type": "markdown",
   "metadata": {},
   "source": [
    "Terminology:\n",
    "\n",
    "- site: one node in the network\n",
    "- component: nodes are connected in components"
   ]
  },
  {
   "cell_type": "markdown",
   "metadata": {},
   "source": [
    "Quick-find\n",
    "\n",
    "All sites in a component must have the same value in id[].\n",
    "\n",
    "- O(1) find\n",
    "- O(N) union"
   ]
  },
  {
   "cell_type": "code",
   "execution_count": 2,
   "metadata": {},
   "outputs": [],
   "source": [
    "def get_input(filename):\n",
    "    connections = []\n",
    "    n = 0\n",
    "    with open(filename, \"r\") as input:\n",
    "        for i, line in enumerate(input):\n",
    "            if i == 0:\n",
    "                n = int(line.strip())\n",
    "            else:\n",
    "                connections.append([int(x) for x in line.strip().split(\" \")])\n",
    "    return n, connections\n"
   ]
  },
  {
   "cell_type": "code",
   "execution_count": 3,
   "metadata": {},
   "outputs": [],
   "source": [
    "class UF_quickFind:\n",
    "    def __init__(self, N):\n",
    "        self.count = N\n",
    "        self.id = [i for i in range(N)]\n",
    "\n",
    "    def find(self, p):\n",
    "        return self.id[p]\n",
    "\n",
    "    def connected(self, p, q):\n",
    "        return self.find(p) == self.find(q)\n",
    "\n",
    "    def union(self, p, q):\n",
    "        pID, qID = self.find(p), self.find(q)\n",
    "        if pID == qID:\n",
    "            return\n",
    "        for i, item in enumerate(self.id):\n",
    "            if item == pID:\n",
    "                self.id[i] = qID\n",
    "        self.count -= 1"
   ]
  },
  {
   "cell_type": "code",
   "execution_count": 4,
   "metadata": {},
   "outputs": [
    {
     "name": "stdout",
     "output_type": "stream",
     "text": [
      "[0, 1, 2, 3, 3, 5, 6, 7, 8, 9]\n",
      "[0, 1, 2, 8, 8, 5, 6, 7, 8, 9]\n",
      "[0, 1, 2, 8, 8, 5, 5, 7, 8, 9]\n",
      "[0, 1, 2, 8, 8, 5, 5, 7, 8, 8]\n",
      "[0, 1, 1, 8, 8, 5, 5, 7, 8, 8]\n",
      "[0, 1, 1, 8, 8, 5, 5, 7, 8, 8]\n",
      "[0, 1, 1, 8, 8, 0, 0, 7, 8, 8]\n",
      "[0, 1, 1, 8, 8, 0, 0, 1, 8, 8]\n",
      "[1, 1, 1, 8, 8, 1, 1, 1, 8, 8]\n",
      "[1, 1, 1, 8, 8, 1, 1, 1, 8, 8]\n",
      "[1, 1, 1, 8, 8, 1, 1, 1, 8, 8]\n"
     ]
    }
   ],
   "source": [
    "\n",
    "if __name__ == \"__main__\":\n",
    "    N, connections = get_input(\"tinyUF.txt\")\n",
    "\n",
    "    quickFind = UF_quickFind(N)\n",
    "    for conn in connections:\n",
    "        quickFind.union(conn[0], conn[1])\n",
    "        print(quickFind.id)\n"
   ]
  },
  {
   "cell_type": "markdown",
   "metadata": {},
   "source": [
    "Quick-union\n",
    "\n",
    "All entries in id[] refer to a parent site. The root site refers to itself\n",
    "\n",
    "Allows for a very quick union\n",
    "\n",
    "- O(N) find\n",
    "- O(N) union - more complex union but still worst case O(N)"
   ]
  },
  {
   "cell_type": "code",
   "execution_count": 5,
   "metadata": {},
   "outputs": [],
   "source": [
    "class UF_quickUnion:\n",
    "    def __init__(self, N):\n",
    "        self.count = N\n",
    "        self.id = [i for i in range(N)]\n",
    "\n",
    "    def find(self, p):\n",
    "        while p != self.id[p]:\n",
    "            p = self.id[p]\n",
    "        return p\n",
    "\n",
    "    def connected(self, p, q):\n",
    "        return self.find(p) == self.find(q)\n",
    "\n",
    "    def union(self, p, q):\n",
    "        pRoot = self.find(p)\n",
    "        qRoot = self.find(q)\n",
    "        if pRoot == qRoot:\n",
    "            return\n",
    "        self.id[pRoot] = qRoot\n",
    "        self.count -= 1\n"
   ]
  },
  {
   "cell_type": "code",
   "execution_count": 6,
   "metadata": {},
   "outputs": [
    {
     "name": "stdout",
     "output_type": "stream",
     "text": [
      "[0, 1, 2, 3, 3, 5, 6, 7, 8, 9]\n",
      "[0, 1, 2, 8, 3, 5, 6, 7, 8, 9]\n",
      "[0, 1, 2, 8, 3, 5, 5, 7, 8, 9]\n",
      "[0, 1, 2, 8, 3, 5, 5, 7, 8, 8]\n",
      "[0, 1, 1, 8, 3, 5, 5, 7, 8, 8]\n",
      "[0, 1, 1, 8, 3, 5, 5, 7, 8, 8]\n",
      "[0, 1, 1, 8, 3, 0, 5, 7, 8, 8]\n",
      "[0, 1, 1, 8, 3, 0, 5, 1, 8, 8]\n",
      "[1, 1, 1, 8, 3, 0, 5, 1, 8, 8]\n",
      "[1, 1, 1, 8, 3, 0, 5, 1, 8, 8]\n",
      "[1, 1, 1, 8, 3, 0, 5, 1, 8, 8]\n"
     ]
    }
   ],
   "source": [
    "if __name__ == \"__main__\":\n",
    "    N, connections = get_input(\"tinyUF.txt\")\n",
    "\n",
    "    quickUnion = UF_quickUnion(N)\n",
    "    for conn in connections:\n",
    "        quickUnion.union(conn[0], conn[1])\n",
    "        print(quickUnion.id)"
   ]
  },
  {
   "cell_type": "markdown",
   "metadata": {},
   "source": [
    "Definition.\n",
    "\n",
    "- size of a tree: its number of nodes\n",
    "\n",
    "- depth of a node in a tree: number of links on the path from it to the root\n",
    "\n",
    "- height of a tree: max depth among its nodes \n"
   ]
  },
  {
   "cell_type": "markdown",
   "metadata": {},
   "source": [
    "Weighted quick-union\n",
    "\n",
    "Rather than arbitrarily connecting the second tree to the first for union(),\n",
    "we keep track of the size of each tree and always connect the smaller tree\n",
    "to the larger\n",
    "\n",
    "Allows for a very quick union\n",
    "\n",
    "- O(log N) find\n",
    "- O(log N) union"
   ]
  },
  {
   "cell_type": "code",
   "execution_count": null,
   "metadata": {},
   "outputs": [],
   "source": [
    "class UF_weightedQuickUnion:\n",
    "    def __init__(self, N):\n",
    "        self.count = N\n",
    "        self.id = [i for i in range(N)]\n",
    "        self.size = [1 for i in range(N)] \n",
    "\n",
    "    def find(self, p):\n",
    "        while p != self.id[p]:\n",
    "            p = self.id[p]\n",
    "        return p\n",
    "\n",
    "    def connected(self, p, q):\n",
    "        return self.find(p) == self.find(q)\n",
    "\n",
    "    def union(self, p, q):\n",
    "        pRoot = self.find(p)\n",
    "        qRoot = self.find(q)\n",
    "        if pRoot == qRoot:\n",
    "            return\n",
    "\n",
    "        if self.size[pRoot] < self.size[qRoot]:\n",
    "            self.id[pRoot] = qRoot\n",
    "            self.size[qRoot] += self.size[pRoot]\n",
    "        else:\n",
    "            self.id[qRoot] = pRoot\n",
    "            self.size[pRoot] += self.size[qRoot]\n",
    "        \n",
    "        self.count -= 1"
   ]
  }
 ],
 "metadata": {
  "kernelspec": {
   "display_name": "Python 3",
   "language": "python",
   "name": "python3"
  },
  "language_info": {
   "codemirror_mode": {
    "name": "ipython",
    "version": 3
   },
   "file_extension": ".py",
   "mimetype": "text/x-python",
   "name": "python",
   "nbconvert_exporter": "python",
   "pygments_lexer": "ipython3",
   "version": "3.12.8"
  }
 },
 "nbformat": 4,
 "nbformat_minor": 2
}
