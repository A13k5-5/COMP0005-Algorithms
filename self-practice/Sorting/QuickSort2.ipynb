{
 "cells": [
  {
   "cell_type": "code",
   "id": "initial_id",
   "metadata": {
    "collapsed": true,
    "ExecuteTime": {
     "end_time": "2025-05-02T10:01:56.668222Z",
     "start_time": "2025-05-02T10:01:56.661834Z"
    }
   },
   "source": [
    "def swap(a: list, i: int, j: int):\n",
    "    a[i], a[j] = a[j], a[i]"
   ],
   "outputs": [],
   "execution_count": 11
  },
  {
   "metadata": {
    "ExecuteTime": {
     "end_time": "2025-05-02T10:01:56.691655Z",
     "start_time": "2025-05-02T10:01:56.685810Z"
    }
   },
   "cell_type": "code",
   "source": [
    "def partition(a: list[int], lo, hi):\n",
    "    pivot = a[lo]\n",
    "    i, j = lo + 1, hi\n",
    "    while True:\n",
    "        # Move the left pointer until you encounter a value that is greater than pivot\n",
    "        while i < hi and pivot >= a[i]:\n",
    "            i += 1\n",
    "\n",
    "        # Move the right pointer until you encounter a value that is smaller than pivot\n",
    "        while j > lo and pivot <= a[j]:\n",
    "            j -= 1\n",
    "\n",
    "        if i >= j:\n",
    "            break\n",
    "\n",
    "        # Swap the left and right values and continue\n",
    "        swap(a, i, j)\n",
    "\n",
    "    # Move the pivot to its position\n",
    "    swap(a, lo, j)\n",
    "    # j is the new position of pivot\n",
    "    return j"
   ],
   "id": "1162a5b1eb890e98",
   "outputs": [],
   "execution_count": 12
  },
  {
   "metadata": {
    "ExecuteTime": {
     "end_time": "2025-05-02T10:01:56.743943Z",
     "start_time": "2025-05-02T10:01:56.739821Z"
    }
   },
   "cell_type": "code",
   "source": [
    "def qsort(a, lo, hi):\n",
    "    if lo >= hi:\n",
    "        return\n",
    "\n",
    "    j = partition(a, lo, hi)\n",
    "    qsort(a, lo, j - 1)\n",
    "    qsort(a, j + 1, hi)"
   ],
   "id": "22e390833561253e",
   "outputs": [],
   "execution_count": 13
  },
  {
   "metadata": {
    "ExecuteTime": {
     "end_time": "2025-05-02T10:01:56.801887Z",
     "start_time": "2025-05-02T10:01:56.793792Z"
    }
   },
   "cell_type": "code",
   "source": [
    "import random\n",
    "\n",
    "if __name__ == \"__main__\":\n",
    "    a = [i for i in range(1000)]\n",
    "    random.shuffle(a)\n",
    "    partition(a, 0, len(a) - 1)\n",
    "    qsort(a, 0, len(a) - 1)\n",
    "    print(a == sorted(a))\n"
   ],
   "id": "a98d0c08eff635e2",
   "outputs": [
    {
     "name": "stdout",
     "output_type": "stream",
     "text": [
      "True\n"
     ]
    }
   ],
   "execution_count": 14
  }
 ],
 "metadata": {
  "kernelspec": {
   "display_name": "Python 3",
   "language": "python",
   "name": "python3"
  },
  "language_info": {
   "codemirror_mode": {
    "name": "ipython",
    "version": 2
   },
   "file_extension": ".py",
   "mimetype": "text/x-python",
   "name": "python",
   "nbconvert_exporter": "python",
   "pygments_lexer": "ipython2",
   "version": "2.7.6"
  }
 },
 "nbformat": 4,
 "nbformat_minor": 5
}
