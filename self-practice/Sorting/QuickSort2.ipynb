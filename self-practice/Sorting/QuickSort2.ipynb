{
 "cells": [
  {
   "cell_type": "code",
   "id": "initial_id",
   "metadata": {
    "collapsed": true,
    "ExecuteTime": {
     "end_time": "2025-04-24T20:22:18.066865Z",
     "start_time": "2025-04-24T20:22:18.063164Z"
    }
   },
   "source": [
    "def swap(a: list, i: int, j: int):\n",
    "    a[i], a[j] = a[j], a[i]"
   ],
   "outputs": [],
   "execution_count": 1
  },
  {
   "metadata": {
    "ExecuteTime": {
     "end_time": "2025-04-24T20:23:42.230643Z",
     "start_time": "2025-04-24T20:23:42.225293Z"
    }
   },
   "cell_type": "code",
   "source": [
    "def partition(a: list, lo: int, hi: int):\n",
    "    pivot = a[lo]\n",
    "    i, j = lo + 1, hi\n",
    "\n",
    "    while True:\n",
    "        while i <= hi and a[i] < pivot:\n",
    "            i += 1\n",
    "\n",
    "        while j >= lo and a[j] > pivot:\n",
    "            j -= 1\n",
    "\n",
    "        if i >= j:\n",
    "            break\n",
    "\n",
    "        swap(a, i, j)\n",
    "    # move the pivot to the new position\n",
    "    swap(a, lo, j)\n",
    "    # return the new position of pivot\n",
    "    return j"
   ],
   "id": "1162a5b1eb890e98",
   "outputs": [],
   "execution_count": 8
  },
  {
   "metadata": {
    "ExecuteTime": {
     "end_time": "2025-04-24T20:24:42.685782Z",
     "start_time": "2025-04-24T20:24:42.680172Z"
    }
   },
   "cell_type": "code",
   "source": [
    "if __name__ == \"__main__\":\n",
    "    a = [5, 6, 7, 1, 2]\n",
    "    partition(a, 0, len(a) - 1)\n",
    "    print(a)"
   ],
   "id": "a98d0c08eff635e2",
   "outputs": [
    {
     "name": "stdout",
     "output_type": "stream",
     "text": [
      "[1, 2, 5, 7, 6]\n"
     ]
    }
   ],
   "execution_count": 10
  }
 ],
 "metadata": {
  "kernelspec": {
   "display_name": "Python 3",
   "language": "python",
   "name": "python3"
  },
  "language_info": {
   "codemirror_mode": {
    "name": "ipython",
    "version": 2
   },
   "file_extension": ".py",
   "mimetype": "text/x-python",
   "name": "python",
   "nbconvert_exporter": "python",
   "pygments_lexer": "ipython2",
   "version": "2.7.6"
  }
 },
 "nbformat": 4,
 "nbformat_minor": 5
}
