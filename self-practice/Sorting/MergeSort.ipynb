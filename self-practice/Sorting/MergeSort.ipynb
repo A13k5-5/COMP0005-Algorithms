{
 "cells": [
  {
   "cell_type": "markdown",
   "metadata": {},
   "source": [
    "Merge Sort\n",
    "\n",
    "divide and conquer"
   ]
  },
  {
   "cell_type": "code",
   "metadata": {
    "ExecuteTime": {
     "end_time": "2025-04-24T20:04:00.944380Z",
     "start_time": "2025-04-24T20:04:00.933966Z"
    }
   },
   "source": [
    "def merge(a, aux, lo, hi):\n",
    "    aux = a.copy()\n",
    "\n",
    "    mid = lo + (hi - lo) // 2\n",
    "    i, j = lo, mid + 1\n",
    "\n",
    "    for k in range(lo, hi + 1):\n",
    "        if i > mid:\n",
    "            a[k] = aux[j]\n",
    "            j += 1\n",
    "        elif j > hi:\n",
    "            a[k] = aux[i]\n",
    "            i += 1\n",
    "        elif aux[j] < aux[i]:\n",
    "            a[k] = aux[j]\n",
    "            j += 1\n",
    "        else:\n",
    "            a[k] = aux[i]\n",
    "            i += 1\n"
   ],
   "outputs": [],
   "execution_count": 2
  },
  {
   "cell_type": "code",
   "metadata": {
    "ExecuteTime": {
     "end_time": "2025-04-24T20:04:03.521705Z",
     "start_time": "2025-04-24T20:04:03.515911Z"
    }
   },
   "source": [
    "def mergeSort(a, aux, lo, hi):\n",
    "    if hi <= lo:\n",
    "        return\n",
    "\n",
    "    mid = lo + (hi - lo) // 2\n",
    "\n",
    "    mergeSort(a, aux, lo, mid)\n",
    "    mergeSort(a, aux, mid + 1, hi)\n",
    "    if a[mid] <= a[mid + 1]:\n",
    "        return\n",
    "    merge(a, aux, lo, hi)\n"
   ],
   "outputs": [],
   "execution_count": 3
  },
  {
   "cell_type": "code",
   "metadata": {
    "ExecuteTime": {
     "end_time": "2025-04-24T20:04:04.844681Z",
     "start_time": "2025-04-24T20:04:04.838286Z"
    }
   },
   "source": [
    "if __name__ == \"__main__\":\n",
    "    a = [1, 2, 3, 5, 53, 2, 1, 4, 123235, 46, 346, 8, 1234314]\n",
    "    mergeSort(a, a.copy(), 0, len(a) - 1)\n",
    "    print(a)"
   ],
   "outputs": [
    {
     "name": "stdout",
     "output_type": "stream",
     "text": [
      "[1, 1, 2, 2, 3, 4, 5, 8, 46, 53, 346, 123235, 1234314]\n"
     ]
    }
   ],
   "execution_count": 4
  }
 ],
 "metadata": {
  "kernelspec": {
   "display_name": "Python 3",
   "language": "python",
   "name": "python3"
  },
  "language_info": {
   "codemirror_mode": {
    "name": "ipython",
    "version": 3
   },
   "file_extension": ".py",
   "mimetype": "text/x-python",
   "name": "python",
   "nbconvert_exporter": "python",
   "pygments_lexer": "ipython3",
   "version": "3.12.3"
  }
 },
 "nbformat": 4,
 "nbformat_minor": 2
}
