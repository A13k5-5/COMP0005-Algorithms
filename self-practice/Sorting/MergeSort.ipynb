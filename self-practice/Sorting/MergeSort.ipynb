{
 "cells": [
  {
   "cell_type": "markdown",
   "metadata": {},
   "source": [
    "Merge Sort\n",
    "\n",
    "divide and conquer"
   ]
  },
  {
   "cell_type": "code",
   "execution_count": 35,
   "metadata": {},
   "outputs": [],
   "source": [
    "def merge(a, aux, lo, hi):\n",
    "    aux = a.copy()\n",
    "\n",
    "    mid = lo + (hi - lo) // 2\n",
    "    i, j = lo, mid + 1\n",
    "\n",
    "    for k in range(lo, hi + 1):\n",
    "        if i > mid:\n",
    "            a[k] = aux[j]\n",
    "            j += 1\n",
    "        elif j > hi:\n",
    "            a[k] = aux[i]\n",
    "            i += 1\n",
    "        elif aux[j] < aux[i]:\n",
    "            a[k] = aux[j]\n",
    "            j += 1\n",
    "        else:\n",
    "            a[k] = aux[i]\n",
    "            i += 1\n"
   ]
  },
  {
   "cell_type": "code",
   "execution_count": 38,
   "metadata": {},
   "outputs": [
    {
     "ename": "",
     "evalue": "",
     "output_type": "error",
     "traceback": [
      "\u001b[1;31mRunning cells with 'Python 3.12.3' requires the ipykernel package.\n",
      "\u001b[1;31mRun the following command to install 'ipykernel' into the Python environment. \n",
      "\u001b[1;31mCommand: '/bin/python3 -m pip install ipykernel -U --user --force-reinstall'"
     ]
    }
   ],
   "source": [
    "def mergeSort(a, aux, lo, hi):\n",
    "    if hi <= lo:\n",
    "        return\n",
    "    \n",
    "    mid = lo + (hi - lo) // 2\n",
    "\n",
    "    mergeSort(a, aux, lo, mid)\n",
    "    mergeSort(a, aux, mid + 1, hi)\n",
    "    if a[mid] <= a[mid + 1]:\n",
    "        return\n",
    "    merge(a, aux, lo, hi)\n"
   ]
  },
  {
   "cell_type": "code",
   "execution_count": null,
   "metadata": {},
   "outputs": [
    {
     "ename": "",
     "evalue": "",
     "output_type": "error",
     "traceback": [
      "\u001b[1;31mRunning cells with 'Python 3.12.3' requires the ipykernel package.\n",
      "\u001b[1;31mRun the following command to install 'ipykernel' into the Python environment. \n",
      "\u001b[1;31mCommand: '/bin/python3 -m pip install ipykernel -U --user --force-reinstall'"
     ]
    }
   ],
   "source": [
    "if __name__ == \"__main__\":\n",
    "    a = [1,2,3,5,53,2,1,4,123235,46,346,8, 1234314]\n",
    "    mergeSort(a, a.copy(), 0, len(a) - 1)\n",
    "    print(a)"
   ]
  }
 ],
 "metadata": {
  "kernelspec": {
   "display_name": "Python 3",
   "language": "python",
   "name": "python3"
  },
  "language_info": {
   "codemirror_mode": {
    "name": "ipython",
    "version": 3
   },
   "file_extension": ".py",
   "mimetype": "text/x-python",
   "name": "python",
   "nbconvert_exporter": "python",
   "pygments_lexer": "ipython3",
   "version": "3.12.3"
  }
 },
 "nbformat": 4,
 "nbformat_minor": 2
}
