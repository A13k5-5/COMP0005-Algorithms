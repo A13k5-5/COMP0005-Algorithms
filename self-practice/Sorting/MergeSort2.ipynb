{
 "cells": [
  {
   "metadata": {
    "ExecuteTime": {
     "end_time": "2025-05-01T17:07:39.916348Z",
     "start_time": "2025-05-01T17:07:39.910001Z"
    }
   },
   "cell_type": "code",
   "source": [
    "def merge(a, aux, lo, hi):\n",
    "    aux = a.copy()\n",
    "    mid = lo + (hi - lo) // 2\n",
    "    i, j = lo, mid + 1\n",
    "\n",
    "    for k in range(lo, hi + 1):\n",
    "        if i > mid:\n",
    "            a[k] = aux[j]\n",
    "            j += 1\n",
    "        elif j > hi:\n",
    "            a[k] = aux[i]\n",
    "            i += 1\n",
    "        elif aux[i] < aux[j]:\n",
    "            a[k] = aux[i]\n",
    "            i += 1\n",
    "        else:\n",
    "            a[k] = aux[j]\n",
    "            j += 1"
   ],
   "id": "c9b4471aa5bd3ecd",
   "outputs": [],
   "execution_count": 3
  },
  {
   "metadata": {
    "ExecuteTime": {
     "end_time": "2025-05-01T17:07:39.979670Z",
     "start_time": "2025-05-01T17:07:39.975638Z"
    }
   },
   "cell_type": "code",
   "source": [
    "def mergeSort(a, lo, hi):\n",
    "    if lo >= hi:\n",
    "        return\n",
    "\n",
    "    mid = lo + (hi - lo) // 2\n",
    "    mergeSort(a, lo, mid)\n",
    "    mergeSort(a, mid + 1, hi)\n",
    "    merge(a, [], lo, hi)"
   ],
   "id": "5069eae8b9870d92",
   "outputs": [],
   "execution_count": 4
  },
  {
   "metadata": {
    "ExecuteTime": {
     "end_time": "2025-05-01T17:08:56.963392Z",
     "start_time": "2025-05-01T17:08:56.952837Z"
    }
   },
   "cell_type": "code",
   "source": [
    "import random\n",
    "\n",
    "if __name__ == \"__main__\":\n",
    "    a = [i for i in range(1000)]\n",
    "    random.shuffle(a)\n",
    "    mergeSort(a, 0, len(a) - 1)\n",
    "    print(a == sorted(a))"
   ],
   "id": "ca396d01a779125",
   "outputs": [
    {
     "name": "stdout",
     "output_type": "stream",
     "text": [
      "True\n"
     ]
    }
   ],
   "execution_count": 7
  }
 ],
 "metadata": {},
 "nbformat": 4,
 "nbformat_minor": 5
}
