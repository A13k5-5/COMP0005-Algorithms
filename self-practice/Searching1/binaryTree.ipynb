{
 "cells": [
  {
   "cell_type": "markdown",
   "id": "ab11cb98",
   "metadata": {},
   "source": [
    "# Binary Tree implementation\n",
    "\n",
    "classes to implement\n",
    "- BST Node\n",
    "- BST\n",
    "\n",
    "methods to implement\n",
    "- search\n",
    "- insert\n",
    "- minimum\n",
    "- floor\n",
    "- ceiling\n",
    "- delete"
   ]
  },
  {
   "cell_type": "code",
   "execution_count": 19,
   "id": "dba598de",
   "metadata": {},
   "outputs": [],
   "source": [
    "class Node:\n",
    "    def __init__(self, key: int, value: int):\n",
    "        self.key: int = key\n",
    "        self.value: int = value\n",
    "        self.right: Node = None\n",
    "        self.left: Node = None"
   ]
  },
  {
   "cell_type": "code",
   "execution_count": 20,
   "id": "6d6054bc",
   "metadata": {},
   "outputs": [],
   "source": [
    "class BST:\n",
    "    def __init__(self):\n",
    "        self.root: Node = None\n",
    "\n",
    "    def get(self, key: int) -> Node:\n",
    "        return self._get(self.root, key)\n",
    "\n",
    "    def _get(self, x: Node, key: int) -> Node:\n",
    "        if x == None:\n",
    "            return None\n",
    "        if x.key == key:\n",
    "            return x\n",
    "        elif x.key < key:\n",
    "            return self._get(x.left, key)\n",
    "        return self._get(x.right, key)\n",
    "    \n",
    "    def insert(self, key: int, value: int):\n",
    "        self.root = self._insert(self.root, key, value)\n",
    "        \n",
    "    def _insert(self, x: Node, key: int, value: int) -> Node:\n",
    "        if x == None:\n",
    "            return Node(key, value)\n",
    "        if key < x.key:\n",
    "            x.left = self._insert(x.left, key, value)\n",
    "        elif key > x.key: \n",
    "            x.right = self._insert(x.right, key, value)\n",
    "        else:\n",
    "            x.value = value\n",
    "        return x\n",
    "    \n",
    "    def inorder(self):\n",
    "        self._inorder(self.root)\n",
    "    \n",
    "    def _inorder(self, a: Node):\n",
    "        if a.left is not None:\n",
    "            self._inorder(a.left)\n",
    "        print(a.key, end=\" \")\n",
    "        if a.right is not None:\n",
    "            self._inorder(a.right)"
   ]
  },
  {
   "cell_type": "code",
   "execution_count": 21,
   "id": "b20b1722",
   "metadata": {},
   "outputs": [
    {
     "name": "stdout",
     "output_type": "stream",
     "text": [
      "7 8 10 12 15 "
     ]
    }
   ],
   "source": [
    "if __name__ == \"__main__\":\n",
    "    bst = BST()\n",
    "    bst.insert(10, 10)\n",
    "    bst.insert(15, 15)\n",
    "    bst.insert(7, 7)\n",
    "    bst.insert(8, 8)\n",
    "    bst.insert(12, 12)\n",
    "    bst.inorder()"
   ]
  }
 ],
 "metadata": {
  "kernelspec": {
   "display_name": "base",
   "language": "python",
   "name": "python3"
  },
  "language_info": {
   "codemirror_mode": {
    "name": "ipython",
    "version": 3
   },
   "file_extension": ".py",
   "mimetype": "text/x-python",
   "name": "python",
   "nbconvert_exporter": "python",
   "pygments_lexer": "ipython3",
   "version": "3.12.7"
  }
 },
 "nbformat": 4,
 "nbformat_minor": 5
}
