{
 "cells": [
  {
   "cell_type": "markdown",
   "metadata": {},
   "source": [
    "# Week 6 - Binary Search Tree to List Coding Challenge"
   ]
  },
  {
   "cell_type": "markdown",
   "metadata": {},
   "source": [
    "Make use of the `Node` data structure provided below to represent your nodes (for both the tree and the list). The `put()` function is provided to later simplify experimentation (for BST construction). For simplicity, we only keep keys in nodes, and not values."
   ]
  },
  {
   "cell_type": "code",
   "metadata": {
    "ExecuteTime": {
     "end_time": "2025-04-07T14:35:10.994374Z",
     "start_time": "2025-04-07T14:35:10.991058Z"
    }
   },
   "source": [
    "# DO NOT MODIFY THIS CELL\n",
    "\n",
    "class Node: \n",
    "    def __init__(self, key): \n",
    "        self.key = key\n",
    "        self.left = None \n",
    "        self.right = None \n",
    "        \n",
    "    def put(self, key):\n",
    "        if key == self.key:\n",
    "            return\n",
    "        elif key < self.key:\n",
    "            if self.left is None:\n",
    "                self.left = Node(key)\n",
    "            else:\n",
    "                self.left.put(key)\n",
    "        elif key > self.key:\n",
    "            if self.right is None:\n",
    "                self.right = Node(key)\n",
    "            else:\n",
    "                self.right.put(key)     \n",
    "        \n",
    "           "
   ],
   "outputs": [],
   "execution_count": 101
  },
  {
   "cell_type": "markdown",
   "metadata": {},
   "source": [
    "Write in the cell below all functions you need to transofrm a BST in a Circular Doubly Linked List with keys in increasing order. The signature of the main recursive function is provided."
   ]
  },
  {
   "cell_type": "code",
   "metadata": {
    "ExecuteTime": {
     "end_time": "2025-04-07T14:35:11.000662Z",
     "start_time": "2025-04-07T14:35:10.997550Z"
    }
   },
   "source": [
    "# given a binary search tree with root `root`, recursively change it into a circular doubly linked list\n",
    "# with nodes in increasing key value order. return the `head` of the list.\n",
    "\n",
    "# WRITE YOUR SOLUTION CODE HERE\n",
    "\n",
    "def treeToList(root: Node) -> Node:\n",
    "    def _treeToDoublyLL(root: Node):\n",
    "        if root is None:\n",
    "            return None\n",
    "        leftHead: Node = treeToList(root.left)\n",
    "        rightHead: Node = treeToList(root.right)\n",
    "        leftTail: Node = leftHead\n",
    "        while leftTail and leftTail.right:\n",
    "            leftTail = leftTail.right\n",
    "\n",
    "        root.left = leftTail\n",
    "        if leftTail:\n",
    "            leftTail.right = root\n",
    "        root.right = rightHead\n",
    "        if rightHead:\n",
    "            rightHead.left = root\n",
    "        head = leftHead if leftHead else root\n",
    "        return head\n",
    "\n",
    "    doublyLinkedListHead = _treeToDoublyLL(root)\n",
    "    return doublyLinkedListHead"
   ],
   "outputs": [],
   "execution_count": 102
  },
  {
   "cell_type": "markdown",
   "metadata": {},
   "source": [
    "In order to test your implementation, we will use a couple of utility functions to print out the tree / list (the code below works with the `Node` data structure defined at the beginning, with `root` and `head` simply being instances of `Node`)."
   ]
  },
  {
   "cell_type": "code",
   "metadata": {
    "ExecuteTime": {
     "end_time": "2025-04-07T14:35:11.054510Z",
     "start_time": "2025-04-07T14:35:11.051008Z"
    }
   },
   "source": [
    "# DO NOT MODIFY THIS CELL\n",
    "\n",
    "def printTree(root):\n",
    "    if root is None:\n",
    "        return\n",
    "    printTree(root.left)\n",
    "    print(root.key, end=\" \")\n",
    "    printTree(root.right)\n",
    "\n",
    "def printList(head):\n",
    "    current = head\n",
    "    while current:\n",
    "        print(current.key, end=\" \")\n",
    "        current = current.right\n",
    "        if current == head:\n",
    "            break\n"
   ],
   "outputs": [],
   "execution_count": 103
  },
  {
   "cell_type": "markdown",
   "metadata": {},
   "source": [
    "Finally, this is instrumentation code to test your tree-to-list-conversion. If your conversion worked, then the in-order visit of the BST and the visit of the list after transformation should print  keys in the same (ascending) order."
   ]
  },
  {
   "cell_type": "code",
   "metadata": {
    "ExecuteTime": {
     "end_time": "2025-04-07T14:35:13.302735Z",
     "start_time": "2025-04-07T14:35:11.111173Z"
    }
   },
   "source": [
    "# DO NOT MODIFY THIS CELL\n",
    "\n",
    "\n",
    "# driver code\n",
    "import random\n",
    "\n",
    "# random numbers between min_value and max_value to use as keys in BST\n",
    "min_value = 0\n",
    "max_value = 100\n",
    "size = 10\n",
    "\n",
    "while True:  \n",
    "    randomListOfKeys = [random.randint(min_value, max_value) for i in range(size)] \n",
    "    print(\"1. Random list of keys:\", randomListOfKeys)\n",
    "\n",
    "    # tree generation \n",
    "    treeRoot = Node(randomListOfKeys[0])\n",
    "    for i in range (1, size):\n",
    "        treeRoot.put(randomListOfKeys[i])\n",
    "    \n",
    "    # printout the tree (prior to transofrmation)\n",
    "    print(\"2. In-order visit of the tree:\", end=\" \")\n",
    "    printTree(treeRoot)\n",
    "    print()\n",
    "\n",
    "    print(\"3. Visit of the tree as if it were a list (BEFORE transformation):\", end=\" \")\n",
    "    printList(treeRoot)\n",
    "    print()\n",
    "\n",
    "\n",
    "    # tree to list transformation\n",
    "    head = treeToList(treeRoot)\n",
    "\n",
    "    # printout the list (after transformation)\n",
    "    print(\"4. Visit of list after transfomation:\", end=\" \")\n",
    "    printList(head)\n",
    "\n",
    "    print(\"\\n\\nTry again? [Y/N]\")\n",
    "    inp = input()\n",
    "    if inp != \"Y\" and inp !=\"y\":\n",
    "        break\n",
    "        "
   ],
   "outputs": [
    {
     "name": "stdout",
     "output_type": "stream",
     "text": [
      "1. Random list of keys: [51, 80, 0, 81, 27, 70, 55, 63, 37, 3]\n",
      "2. In-order visit of the tree: 0 3 27 37 51 55 63 70 80 81 \n",
      "3. Visit of the tree as if it were a list (BEFORE transformation): 51 80 81 \n",
      "4. Visit of list after transfomation: 0 3 27 37 51 55 63 70 80 81 \n",
      "\n",
      "Try again? [Y/N]\n"
     ]
    }
   ],
   "execution_count": 104
  },
  {
   "cell_type": "code",
   "metadata": {
    "ExecuteTime": {
     "end_time": "2025-04-07T14:35:13.322527Z",
     "start_time": "2025-04-07T14:35:13.320691Z"
    }
   },
   "source": [],
   "outputs": [],
   "execution_count": null
  },
  {
   "cell_type": "code",
   "metadata": {
    "ExecuteTime": {
     "end_time": "2025-04-07T14:35:13.372621Z",
     "start_time": "2025-04-07T14:35:13.370512Z"
    }
   },
   "source": [],
   "outputs": [],
   "execution_count": null
  }
 ],
 "metadata": {
  "kernelspec": {
   "display_name": "Python 3",
   "language": "python",
   "name": "python3"
  },
  "language_info": {
   "codemirror_mode": {
    "name": "ipython",
    "version": 3
   },
   "file_extension": ".py",
   "mimetype": "text/x-python",
   "name": "python",
   "nbconvert_exporter": "python",
   "pygments_lexer": "ipython3",
   "version": "3.7.10"
  }
 },
 "nbformat": 4,
 "nbformat_minor": 4
}
