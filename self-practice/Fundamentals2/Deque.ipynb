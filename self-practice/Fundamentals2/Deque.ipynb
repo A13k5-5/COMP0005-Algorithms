{
 "cells": [
  {
   "cell_type": "markdown",
   "metadata": {},
   "source": [
    "Deque\n",
    "\n",
    "a.k.a Double ended queue\n",
    "\n",
    "- generalisation of a stack that supports adding and removing items from either the front or the back"
   ]
  },
  {
   "cell_type": "code",
   "execution_count": 30,
   "metadata": {},
   "outputs": [],
   "source": [
    "class Node:\n",
    "    def __init__(self, v):\n",
    "        self.val = v\n",
    "        self.next = None\n",
    "        self.prev = None\n",
    "    \n",
    "    def getVal(self):\n",
    "        return self.val\n",
    "    \n",
    "    def setVal(self, n):\n",
    "        self.val = n\n",
    "\n",
    "    def getNext(self):\n",
    "        return self.next\n",
    "    \n",
    "    def setNext(self, n):\n",
    "        self.next = n\n",
    "\n",
    "    def setPrev(self, n):\n",
    "        self.prev = n\n",
    "    \n",
    "    def getPrev(self):\n",
    "        return self.prev"
   ]
  },
  {
   "cell_type": "code",
   "execution_count": 31,
   "metadata": {},
   "outputs": [],
   "source": [
    "class Deque:\n",
    "    def __init__(self):\n",
    "        self.head = None\n",
    "        self.tail = None\n",
    "        self.len = 0\n",
    "    \n",
    "    def isEmpty(self):\n",
    "        return self.head == None\n",
    "\n",
    "    def length(self):\n",
    "        return self.len\n",
    "    \n",
    "    def addFirst(self, n):\n",
    "        new = Node(n)\n",
    "        if self.len == 0:\n",
    "            self.tail = new \n",
    "        new.setNext(self.head)\n",
    "        self.head = new\n",
    "        self.len += 1\n",
    "    \n",
    "    def addLast(self, n):\n",
    "        new = Node(n)\n",
    "        if self.len == 0:\n",
    "            self.tail = new\n",
    "        else:\n",
    "            self.tail.setNext(new)\n",
    "        new.setPrev(self.tail)\n",
    "        self.tail = new\n",
    "        self.len += 1\n",
    "    \n",
    "    def removeFirst(self):\n",
    "        if self.len == 0:\n",
    "            return\n",
    "        n = self.head\n",
    "        if self.len == 1:\n",
    "            self.head = self.tail = None\n",
    "        else:\n",
    "            self.head = self.head.getNext()\n",
    "            self.head.setPrev(None)\n",
    "        self.len -= 1\n",
    "        if self.len == 1:\n",
    "            self.tail = self.head\n",
    "        return n\n",
    "    \n",
    "    def removeLast(self):\n",
    "        if self.len == 0:\n",
    "            return\n",
    "        n = self.tail\n",
    "        if self.len == 1:\n",
    "            self.tail = self.tail = None\n",
    "        else:\n",
    "            self.tail = self.tail.getPrev()\n",
    "            self.tail.setNext(None)\n",
    "        self.len -= 1\n",
    "        if self.len == 1:\n",
    "            self.head = self.tail\n",
    "        return n\n",
    "        \n",
    "    \n",
    "    def print(self):\n",
    "        a = self.head\n",
    "        str = \"\"\n",
    "        while a != self.tail:\n",
    "            str += f\"{a.getVal()} \"\n",
    "            a = a.getNext()\n",
    "        if a is not None:\n",
    "            str += f\"{a.getVal()} \"\n",
    "        print(str)\n",
    "    \n"
   ]
  },
  {
   "cell_type": "code",
   "execution_count": 39,
   "metadata": {},
   "outputs": [
    {
     "name": "stdout",
     "output_type": "stream",
     "text": [
      "8 6 4 2 0 1 3 5 7 9 \n",
      "6 4 2 0 1 3 5 7 9 \n",
      "6 4 2 0 \n"
     ]
    }
   ],
   "source": [
    "if __name__ == \"__main__\":\n",
    "    dq = Deque()\n",
    "    for i in range(10):\n",
    "        dq.addFirst(i) if i % 2 == 0 else dq.addLast(i)\n",
    "    dq.print()\n",
    "    dq.removeFirst()\n",
    "    dq.print()\n",
    "    dq.removeLast()\n",
    "    dq.removeLast()\n",
    "    dq.removeLast()\n",
    "    dq.removeLast()\n",
    "    dq.removeLast()\n",
    "    dq.print()\n"
   ]
  }
 ],
 "metadata": {
  "kernelspec": {
   "display_name": "Python 3",
   "language": "python",
   "name": "python3"
  },
  "language_info": {
   "codemirror_mode": {
    "name": "ipython",
    "version": 3
   },
   "file_extension": ".py",
   "mimetype": "text/x-python",
   "name": "python",
   "nbconvert_exporter": "python",
   "pygments_lexer": "ipython3",
   "version": "3.12.8"
  }
 },
 "nbformat": 4,
 "nbformat_minor": 2
}
